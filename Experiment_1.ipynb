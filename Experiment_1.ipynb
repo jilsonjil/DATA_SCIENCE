{
 "cells": [
  {
   "cell_type": "code",
   "execution_count": null,
   "metadata": {},
   "outputs": [
    {
     "name": "stdout",
     "output_type": "stream",
     "text": [
      "CALCULATOR\n",
      "=============\n",
      "\n",
      "Enter a number:4\n",
      "\n",
      "Enter second number:5\n",
      "\n",
      "1.Additon \n",
      "2.Divison \n",
      "3.Multiplication \n",
      "4.Divison \n",
      "5.Modulus\n",
      "6.Exit\n",
      "\n",
      "Select Your Choice: \n",
      "1\n",
      "4 + 5 = 9\n",
      "\n",
      "Enter a number:2\n",
      "\n",
      "Enter second number:3\n",
      "\n",
      "1.Additon \n",
      "2.Divison \n",
      "3.Multiplication \n",
      "4.Divison \n",
      "5.Modulus\n",
      "6.Exit\n",
      "\n",
      "Select Your Choice: \n",
      "4\n",
      "2 / 3 = 0.6666666666666666\n"
     ]
    }
   ],
   "source": [
    "def add(a,b):\n",
    "    return a+b\n",
    "def sub(a,b):\n",
    "    return a-b\n",
    "def mul(a,b):\n",
    "    return a*b\n",
    "def div(a,b):\n",
    "    return a/b\n",
    "def mod(a,b):\n",
    "    return a%b\n",
    "\n",
    "print(\"CALCULATOR\\n=============\")\n",
    "while(True):\n",
    "   \n",
    "    fn=int(input(\"\\nEnter a number:\"))\n",
    "    sn=int(input(\"\\nEnter second number:\"))\n",
    "    print(\"\\n1.Additon \\n2.Divison \\n3.Multiplication \\n4.Divison \\n5.Modulus\\n6.Exit\" )\n",
    "    ch=int(input(\"\\nSelect Your Choice: \\n\"))\n",
    "    if ch==1:\n",
    "        print(fn,\"+\",sn,'=',add(fn,sn))\n",
    "    elif ch==2:\n",
    "        print(fn,\"-\",sn,'=',sub(fn,sn))\n",
    "    elif ch==3:\n",
    "        print(fn,\"*\",sn,'=',mul(fn,sn))\n",
    "    elif ch==4:\n",
    "        print(fn,\"/\",sn,'=',div(fn,sn))\n",
    "    elif ch==5:\n",
    "        print(fn,\"%\",sn,'=',mod(fn,sn))\n",
    "    elif ch==6:\n",
    "        break\n",
    "    else:\n",
    "        print('Wrong Choice')"
   ]
  },
  {
   "cell_type": "code",
   "execution_count": null,
   "metadata": {
    "collapsed": true
   },
   "outputs": [],
   "source": []
  },
  {
   "cell_type": "code",
   "execution_count": null,
   "metadata": {
    "collapsed": true
   },
   "outputs": [],
   "source": []
  }
 ],
 "metadata": {
  "kernelspec": {
   "display_name": "Python 3",
   "language": "python",
   "name": "python3"
  },
  "language_info": {
   "codemirror_mode": {
    "name": "ipython",
    "version": 3
   },
   "file_extension": ".py",
   "mimetype": "text/x-python",
   "name": "python",
   "nbconvert_exporter": "python",
   "pygments_lexer": "ipython3",
   "version": "3.6.3"
  }
 },
 "nbformat": 4,
 "nbformat_minor": 2
}
