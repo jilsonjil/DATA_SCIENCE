{
 "cells": [
  {
   "cell_type": "code",
   "execution_count": 2,
   "metadata": {},
   "outputs": [
    {
     "name": "stdout",
     "output_type": "stream",
     "text": [
      "[[ 0  1  2  3]\n",
      " [ 4  5  6  7]\n",
      " [ 8  9 10 11]] \n",
      "\n",
      "[[-0.1473065  -0.90090739  0.40824829]\n",
      " [-0.50027528 -0.2881978  -0.81649658]\n",
      " [-0.85324407  0.32451178  0.40824829]] \n",
      "\n",
      "[2.24092982e+01 1.95534034e+00 7.68985043e-16] \n",
      "\n",
      "[[-0.39390139 -0.46087474 -0.5278481  -0.59482145]\n",
      " [ 0.73813393  0.29596363 -0.14620666 -0.58837696]\n",
      " [-0.50775138  0.52390687  0.47544042 -0.4915959 ]\n",
      " [-0.20539847  0.65232016 -0.68844492  0.24152322]] \n",
      "\n"
     ]
    }
   ],
   "source": [
    "import numpy as np\n",
    "from scipy.linalg import svd\n",
    "a=np.arange(12).reshape(3,4)\n",
    "print(a,'\\n')\n",
    "a,b,c=svd(a)\n",
    "print(a,'\\n')\n",
    "print(b,'\\n')\n",
    "print(c,'\\n')"
   ]
  },
  {
   "cell_type": "code",
   "execution_count": null,
   "metadata": {
    "collapsed": true
   },
   "outputs": [],
   "source": []
  }
 ],
 "metadata": {
  "kernelspec": {
   "display_name": "Python 3",
   "language": "python",
   "name": "python3"
  },
  "language_info": {
   "codemirror_mode": {
    "name": "ipython",
    "version": 3
   },
   "file_extension": ".py",
   "mimetype": "text/x-python",
   "name": "python",
   "nbconvert_exporter": "python",
   "pygments_lexer": "ipython3",
   "version": "3.6.3"
  }
 },
 "nbformat": 4,
 "nbformat_minor": 2
}
